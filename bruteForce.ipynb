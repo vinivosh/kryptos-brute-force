{
 "cells": [
  {
   "cell_type": "markdown",
   "metadata": {},
   "source": [
    "# Brute Forcing Kryptos — An Attempt\n",
    "\n",
    "Attempting to brute force the unsolved Kryptos cipher (K4 segment).\n",
    "\n",
    "Using Python because I'm rusty as fuck with C at the moment. Plus I've recently used a lot of Python with GPU acceleration in my [CS thesis](https://github.com/vinivosh/ufu-tcc2), so it'll be very useful here and won't require me to learn new stuff — always a great bonus for a lazy lad.\n",
    "\n",
    "I'll try using [Numba](https://numba.pydata.org/)'s [jit compiler](https://numba.readthedocs.io/en/stable/user/jit.html) to accelerate the process this as much as possible. Preferably even Numba's [CUDA support](https://numba.readthedocs.io/en/stable/cuda/overview.html) if it works.\n",
    "\n",
    "# The Segments\n",
    "\n",
    "Of note: **K2** here is the corrected version. For the version in the actual sculpture, with the omission error, just substitute the `ESWJL` near the end by `EWJL`"
   ]
  },
  {
   "cell_type": "code",
   "execution_count": 23,
   "metadata": {},
   "outputs": [],
   "source": [
    "K1 = '''EMUFPHZLRFAXYUSDJKZLDKRNSHGNFIVJ\n",
    "YQTQUXQBQVYUVLLTREVJYQTMKYRDMFD'''\n",
    "\n",
    "K2 = '''VFPJUDEEHZWETZYVGWHKKQETGFQJNCE\n",
    "GGWHKK?DQMCPFQZDQMMIAGPFXHQRLG\n",
    "TIMVMZJANQLVKQEDAGDVFRPJUNGEUNA\n",
    "QZGZLECGYUXUEENJTBJLBQCRTBJDFHRR\n",
    "YIZETKZEMVDUFKSJHKFWHKUWQLSZFTI\n",
    "HHDDDUVH?DWKBFUFPWNTDFIYCUQZERE\n",
    "EVLDKFEZMOQQJLTTUGSYQPFEUNLAVIDX\n",
    "FLGGTEZ?FKZBSFDQVGOGIPUFXHHDRKF\n",
    "FHQNTGPUAECNUVPDJMQCLQUMUNEDFQ\n",
    "ELZZVRRGKFFVOEEXBDMVPNFQXEZLGRE\n",
    "DNQFMPNZGLFLPMRJQYALMGNUVPDXVKP\n",
    "DQUMEBEDMHDAFMJGZNUPLGESWJLLAETG'''\n",
    "\n",
    "K3 = '''ENDYAHROHNLSRHEOCPTEOIBIDYSHNAIA\n",
    "CHTNREYULDSLLSLLNOHSNOSMRWXMNE\n",
    "TPRNGATIHNRARPESLNNELEBLPIIACAE\n",
    "WMTWNDITEENRAHCTENEUDRETNHAEOE\n",
    "TFOLSEDTIWENHAEIOYTEYQHEENCTAYCR\n",
    "EIFTBRSPAMHHEWENATAMATEGYEERLB\n",
    "TEEFOASFIOTUETUAEOTOARMAEERTNRTI\n",
    "BSEDDNIAAHTTMSTEWPIEROAGRIEWFEB\n",
    "AECTDDHILCEIHSITEGOEAOSDDRYDLORIT\n",
    "RKLMLEHAGTDHARDPNEOHMGFMFEUHE\n",
    "ECDMRIPFEIMEHNLSSTTRTVDOHW?'''\n",
    "\n",
    "K4 = '''OBKR\n",
    "UOXOGHULBSOLIFBBWFLRVQQPRNGKSSO\n",
    "TWTQSJQSSEKZZWATJKLUDIAWINFBNYP\n",
    "VTTMZFPKWGDKZXTJCDIGKUHUAUEKCAR'''\n",
    "\n",
    "# print(f'K1:\\n{K1}\\n\\nK2:\\n{K2}\\n\\nK3:\\n{K3}\\n\\nK4:\\n{K4}\\n\\n')"
   ]
  },
  {
   "cell_type": "markdown",
   "metadata": {},
   "source": [
    "# Brute Forcing K1"
   ]
  },
  {
   "cell_type": "code",
   "execution_count": 24,
   "metadata": {},
   "outputs": [],
   "source": [
    "# "
   ]
  }
 ],
 "metadata": {
  "kernelspec": {
   "display_name": ".venv",
   "language": "python",
   "name": "python3"
  },
  "language_info": {
   "codemirror_mode": {
    "name": "ipython",
    "version": 3
   },
   "file_extension": ".py",
   "mimetype": "text/x-python",
   "name": "python",
   "nbconvert_exporter": "python",
   "pygments_lexer": "ipython3",
   "version": "3.11.3"
  }
 },
 "nbformat": 4,
 "nbformat_minor": 2
}
