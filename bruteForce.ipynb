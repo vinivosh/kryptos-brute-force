{
 "cells": [
  {
   "cell_type": "markdown",
   "metadata": {},
   "source": [
    "# Brute Forcing Kryptos — An Attempt\n",
    "\n",
    "Attempting to brute force the unsolved Kryptos cipher (K4 segment).\n",
    "\n",
    "Using Python because I'm rusty as fuck with C at the moment. Plus I've recently used a lot of Python with GPU acceleration in my [CS thesis](https://github.com/vinivosh/ufu-tcc2), so it'll be very useful here and won't require me to learn new stuff — always a great bonus for a lazy lad.\n",
    "\n",
    "I'll try using [Numba](https://numba.pydata.org/)'s [jit compiler](https://numba.readthedocs.io/en/stable/user/jit.html) to accelerate the process this as much as possible. Preferably even Numba's [CUDA support](https://numba.readthedocs.io/en/stable/cuda/overview.html) if it works.\n",
    "\n",
    "# The Segments\n",
    "\n",
    "Of note: **K2** here is the corrected version. For the version in the actual sculpture, with the omission error, just substitute the `ESWJL` near the end by `EWJL`"
   ]
  },
  {
   "cell_type": "code",
   "execution_count": 161,
   "metadata": {},
   "outputs": [],
   "source": [
    "K1 = '''EMUFPHZLRFAXYUSDJKZLDKRNSHGNFIVJ\n",
    "YQTQUXQBQVYUVLLTREVJYQTMKYRDMFD'''\n",
    "\n",
    "K2 = '''VFPJUDEEHZWETZYVGWHKKQETGFQJNCE\n",
    "GGWHKK?DQMCPFQZDQMMIAGPFXHQRLG\n",
    "TIMVMZJANQLVKQEDAGDVFRPJUNGEUNA\n",
    "QZGZLECGYUXUEENJTBJLBQCRTBJDFHRR\n",
    "YIZETKZEMVDUFKSJHKFWHKUWQLSZFTI\n",
    "HHDDDUVH?DWKBFUFPWNTDFIYCUQZERE\n",
    "EVLDKFEZMOQQJLTTUGSYQPFEUNLAVIDX\n",
    "FLGGTEZ?FKZBSFDQVGOGIPUFXHHDRKF\n",
    "FHQNTGPUAECNUVPDJMQCLQUMUNEDFQ\n",
    "ELZZVRRGKFFVOEEXBDMVPNFQXEZLGRE\n",
    "DNQFMPNZGLFLPMRJQYALMGNUVPDXVKP\n",
    "DQUMEBEDMHDAFMJGZNUPLGESWJLLAETG'''\n",
    "\n",
    "K3 = '''ENDYAHROHNLSRHEOCPTEOIBIDYSHNAIA\n",
    "CHTNREYULDSLLSLLNOHSNOSMRWXMNE\n",
    "TPRNGATIHNRARPESLNNELEBLPIIACAE\n",
    "WMTWNDITEENRAHCTENEUDRETNHAEOE\n",
    "TFOLSEDTIWENHAEIOYTEYQHEENCTAYCR\n",
    "EIFTBRSPAMHHEWENATAMATEGYEERLB\n",
    "TEEFOASFIOTUETUAEOTOARMAEERTNRTI\n",
    "BSEDDNIAAHTTMSTEWPIEROAGRIEWFEB\n",
    "AECTDDHILCEIHSITEGOEAOSDDRYDLORIT\n",
    "RKLMLEHAGTDHARDPNEOHMGFMFEUHE\n",
    "ECDMRIPFEIMEHNLSSTTRTVDOHW?'''\n",
    "\n",
    "K4 = '''OBKR\n",
    "UOXOGHULBSOLIFBBWFLRVQQPRNGKSSO\n",
    "TWTQSJQSSEKZZWATJKLUDIAWINFBNYP\n",
    "VTTMZFPKWGDKZXTJCDIGKUHUAUEKCAR'''\n",
    "\n",
    "# print(f'K1:\\n{K1}\\n\\nK2:\\n{K2}\\n\\nK3:\\n{K3}\\n\\nK4:\\n{K4}\\n\\n')"
   ]
  },
  {
   "cell_type": "markdown",
   "metadata": {},
   "source": [
    "# Dictionary and Evaluation\n",
    "\n",
    "How to know if the decrypted message candidates make sense and are not just random gibberish? Using some known patterns in the english language!\n",
    "\n",
    "> I got this idea from [this great experiment](https://github.com/desgeeko/kryptos/blob/main/Kryptos.ipynb), so all credit goes to GitHub user **[desgeeko](https://github.com/desgeeko)**.\n",
    "\n",
    "## Reading Files (Google Web Trillion Word Corpus)"
   ]
  },
  {
   "cell_type": "code",
   "execution_count": 162,
   "metadata": {},
   "outputs": [
    {
     "name": "stdout",
     "output_type": "stream",
     "text": [
      "           word        count\n",
      "0           the  23135851162\n",
      "1            of  13151942776\n",
      "2           and  12997637966\n",
      "3            to  12136980858\n",
      "4             a   9081174698\n",
      "...         ...          ...\n",
      "333328    gooek        12711\n",
      "333329   gooddg        12711\n",
      "333330  gooblle        12711\n",
      "333331   gollgo        12711\n",
      "333332    golgw        12711\n",
      "\n",
      "[333333 rows x 2 columns]\n",
      "    bigram  count\n",
      "0       in  47154\n",
      "1       th  46594\n",
      "2       er  41698\n",
      "3       re  38010\n",
      "4       he  37250\n",
      "..     ...    ...\n",
      "671     qy      2\n",
      "672     zq      2\n",
      "673     jx      1\n",
      "674     qz      1\n",
      "675     jq      1\n",
      "\n",
      "[676 rows x 2 columns]\n"
     ]
    }
   ],
   "source": [
    "import os\n",
    "from urllib.request import urlopen\n",
    "\n",
    "import numpy as np\n",
    "import pandas as pd\n",
    "# from numba import jit\n",
    "\n",
    "def download_if_needed(file_path, url):\n",
    "    '''Downloads file from `url`, if it doesn't already exists in `filePath`'''\n",
    "\n",
    "    if os.path.exists(file_path): return\n",
    "\n",
    "    with urlopen(url) as f:\n",
    "        html = f.read().decode('utf-8')\n",
    "    with open(file_path, 'w') as f:\n",
    "        f.write(html)\n",
    "\n",
    "file_count_1w = 'count_1w.txt'\n",
    "file_count_2l = 'count_2l.txt'\n",
    "url_base = 'https://norvig.com/ngrams/'\n",
    "\n",
    "download_if_needed(file_count_1w, url_base + file_count_1w)\n",
    "download_if_needed(file_count_2l, url_base + file_count_2l)\n",
    "\n",
    "# Reading ngrams files\n",
    "with open(file_count_1w, 'r') as f:\n",
    "    count_1w = pd.read_csv(f, names=['word', 'count'], sep='\\t')\n",
    "with open(file_count_2l, 'r') as f:\n",
    "    count_2l = pd.read_csv(f, names=['bigram', 'count'], sep='\\t')\n",
    "\n",
    "# Normalizing bigram count, to help calculations\n",
    "minBigramCount = count_2l['count'].min()\n",
    "count_2l['count'] = (count_2l['count'] / minBigramCount).astype(np.uint32)\n",
    "\n",
    "print(count_1w)\n",
    "print(count_2l)\n",
    "\n",
    "# Converting count_2l to a dictionary\n",
    "count_2l = {bigram.upper(): count for (bigram, count) in count_2l.to_numpy()}\n",
    "# print(count_2l)"
   ]
  },
  {
   "cell_type": "markdown",
   "metadata": {},
   "source": [
    "## Evaluation Function"
   ]
  },
  {
   "cell_type": "code",
   "execution_count": 163,
   "metadata": {},
   "outputs": [
    {
     "name": "stdout",
     "output_type": "stream",
     "text": [
      "\"A CAT NAP A DAY LATE AND A DOLLAR SHORT LOVE BIRDS A LOT ON ONES PLATE A BITE AT THE CHERRY\"\n",
      "15374\n",
      "\n",
      "\"TEST PHRASE THAT IS COMPLETELY WRITTEN IN ENGLISH LETS SEE IF THIS GOES AS PLANNED\"\n",
      "15267\n",
      "\n",
      "\"FRASE DE PRUEBA QUE ESTA COMPLETAMENTE ESCRITA EN ESPANOL A VER SI VA SEGUN LO PLANIFICADO\"\n",
      "13004\n",
      "\n",
      "\"PHRASE DE TEST ENTIEREMENT ECRITE EN FRANCAIS, VOYONS SI CELA SE PASSE COMME PREVU\"\n",
      "15846\n",
      "\n",
      "\"TESTZIN DIE VOLLEDIG IN HET NEDERLANDS IS GESCHREVEN LATEN WE KIJKEN OF DIT GAAT ZOALS PLANNEN\"\n",
      "13975\n",
      "\n",
      "\"FRASE EM PORTUGUES PARA TESTAR COMO O SCORE FICA SE TESTARMOS OUTRA LINGUA BANANAS\"\n",
      "15536\n",
      "\n",
      "\"WPRYCSWDUWQXAYKMOKUZLVOSIPPTGTIIDZXQYCOCSLIAGPEPFJEXFVVMMOPLRJYATIISHMPNFJFIEWLVQ\"\n",
      "4134\n",
      "\n",
      "\"CJODRMQNNKCEGPOXUUQOXISVUIRIDLXMLXFKWREBKWEZMRCRPXNNFKOIOEKOXBCOUZGGIORDTNXYNRMTR\"\n",
      "3778\n",
      "\n",
      "\"HQLVEOWOTLEZNDGYFFPLTCJCIOGGFWAMYZOXHIGJMFSLEPHLVGRDIGQURPAIIFLWICWYSHZWCIMRJWVUB\"\n",
      "3879\n",
      "\n",
      "\"XUCUSMSSROGJKIGUPGSBGSIKINELYBHOALXCQYTGMRKDWJUXDUOANVEWHIWDIMGKMKKUSIYFQAGBLWTDF\"\n",
      "4549\n",
      "\n"
     ]
    }
   ],
   "source": [
    "def is_it_english(text:str, use_geo_mean=False):\n",
    "    bigrams = [text[i:i+2].upper() for i in range(len(text) - 1)]\n",
    "    # print(bigrams)\n",
    "    total = 0\n",
    "\n",
    "    for bigram in bigrams:\n",
    "        score = count_2l.get(bigram, None)\n",
    "        # print(score)\n",
    "        if score is None: continue\n",
    "\n",
    "        if use_geo_mean: total += np.log(score)\n",
    "        else: total += score\n",
    "\n",
    "    if use_geo_mean: return round(np.exp(total / len(text)))\n",
    "    return round(total / len(text))\n",
    "\n",
    "for text in [\n",
    "    'A CAT NAP A DAY LATE AND A DOLLAR SHORT LOVE BIRDS A LOT ON ONES PLATE A BITE AT THE CHERRY',\n",
    "    'TEST PHRASE THAT IS COMPLETELY WRITTEN IN ENGLISH LETS SEE IF THIS GOES AS PLANNED',\n",
    "    'FRASE DE PRUEBA QUE ESTA COMPLETAMENTE ESCRITA EN ESPANOL A VER SI VA SEGUN LO PLANIFICADO',\n",
    "    'PHRASE DE TEST ENTIEREMENT ECRITE EN FRANCAIS, VOYONS SI CELA SE PASSE COMME PREVU',\n",
    "    'TESTZIN DIE VOLLEDIG IN HET NEDERLANDS IS GESCHREVEN LATEN WE KIJKEN OF DIT GAAT ZOALS PLANNEN',\n",
    "    'FRASE EM PORTUGUES PARA TESTAR COMO O SCORE FICA SE TESTARMOS OUTRA LINGUA BANANAS',\n",
    "    'WPRYCSWDUWQXAYKMOKUZLVOSIPPTGTIIDZXQYCOCSLIAGPEPFJEXFVVMMOPLRJYATIISHMPNFJFIEWLVQ',\n",
    "    'CJODRMQNNKCEGPOXUUQOXISVUIRIDLXMLXFKWREBKWEZMRCRPXNNFKOIOEKOXBCOUZGGIORDTNXYNRMTR',\n",
    "    'HQLVEOWOTLEZNDGYFFPLTCJCIOGGFWAMYZOXHIGJMFSLEPHLVGRDIGQURPAIIFLWICWYSHZWCIMRJWVUB',\n",
    "    'XUCUSMSSROGJKIGUPGSBGSIKINELYBHOALXCQYTGMRKDWJUXDUOANVEWHIWDIMGKMKKUSIYFQAGBLWTDF',\n",
    "]:\n",
    "    score = is_it_english(text.replace(' ', ''))\n",
    "    print(f'\"{text}\"\\n{score}\\n')"
   ]
  },
  {
   "cell_type": "markdown",
   "metadata": {},
   "source": [
    "# Brute Forcing K1"
   ]
  }
 ],
 "metadata": {
  "kernelspec": {
   "display_name": ".venv",
   "language": "python",
   "name": "python3"
  },
  "language_info": {
   "codemirror_mode": {
    "name": "ipython",
    "version": 3
   },
   "file_extension": ".py",
   "mimetype": "text/x-python",
   "name": "python",
   "nbconvert_exporter": "python",
   "pygments_lexer": "ipython3",
   "version": "3.11.3"
  }
 },
 "nbformat": 4,
 "nbformat_minor": 2
}
